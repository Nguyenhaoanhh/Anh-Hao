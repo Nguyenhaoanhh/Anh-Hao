{
  "nbformat": 4,
  "nbformat_minor": 0,
  "metadata": {
    "colab": {
      "provenance": [],
      "authorship_tag": "ABX9TyNo21a5a5GtzkO3UuZRNony",
      "include_colab_link": true
    },
    "kernelspec": {
      "name": "python3",
      "display_name": "Python 3"
    },
    "language_info": {
      "name": "python"
    }
  },
  "cells": [
    {
      "cell_type": "markdown",
      "metadata": {
        "id": "view-in-github",
        "colab_type": "text"
      },
      "source": [
        "<a href=\"https://colab.research.google.com/github/Nguyenhaoanhh/Anh-Hao/blob/main/Cifar100_Model.ipynb\" target=\"_parent\"><img src=\"https://colab.research.google.com/assets/colab-badge.svg\" alt=\"Open In Colab\"/></a>"
      ]
    },
    {
      "cell_type": "code",
      "source": [
        "from keras.datasets import cifar100\n",
        "import numpy as np\n",
        "import matplotlib.pyplot as plt\n",
        "import pandas as pd\n",
        "from keras.models import Sequential\n",
        "from  keras.layers import Dense\n",
        "from keras.utils import to_categorical\n",
        "\n",
        "(x_train,y_train),(x_test,y_test) = cifar100.load_data()\n",
        "\n",
        "print(x_train.shape)\n",
        "print(y_train.shape)\n",
        "print(x_test.shape)\n",
        "print(y_test.shape)\n",
        "\n",
        "digist = x_train[15291]\n",
        "plt.imshow(digist)\n",
        "plt.show"
      ],
      "metadata": {
        "colab": {
          "base_uri": "https://localhost:8080/",
          "height": 517
        },
        "id": "3Mqugy210gwa",
        "outputId": "ecab4ed9-6963-4997-b501-b030927a3778"
      },
      "execution_count": 1,
      "outputs": [
        {
          "output_type": "stream",
          "name": "stdout",
          "text": [
            "(50000, 32, 32, 3)\n",
            "(50000, 1)\n",
            "(10000, 32, 32, 3)\n",
            "(10000, 1)\n"
          ]
        },
        {
          "output_type": "execute_result",
          "data": {
            "text/plain": [
              "<function matplotlib.pyplot.show(close=None, block=None)>"
            ]
          },
          "metadata": {},
          "execution_count": 1
        },
        {
          "output_type": "display_data",
          "data": {
            "text/plain": [
              "<Figure size 640x480 with 1 Axes>"
            ],
            "image/png": "[encoded data removed]"
          },
          "metadata": {}
        }
      ]
    },
    {
      "cell_type": "code",
      "source": [
        "model =  Sequential()\n",
        "model.add(Dense(512,activation = 'relu',input_shape = [32*32*3]))\n",
        "model.add(Dense(1024,activation = 'relu',input_shape = [32*32*3]))\n",
        "model.add(Dense(100,activation='softmax'))\n",
        "model.summary()\n",
        "\n",
        "x_train = x_train.reshape((50000,32*32*3))\n",
        "x_train = x_train.astype('float32')/255\n",
        "\n",
        "x_test = x_test.reshape((10000,32*32*3))\n",
        "x_test = x_test.astype('float32')/255\n",
        "\n",
        "y_train = to_categorical(y_train,100)\n",
        "y_test = to_categorical(y_test,100)\n",
        "\n",
        "model = load_model('/content/cifar100.h5')\n",
        "model.compile(optimizer = 'rmsprop',loss = 'categorical_crossentropy',metrics = ['Accuracy'])\n",
        "model.fit(x_train,y_train,epochs = 1,batch_size = 128)\n",
        "model.save('cifar100.h5')\n",
        "test_loss,test_agg = model.evaluate(x_test,y_test)\n",
        "print('Score: ',test_loss)\n",
        "print('Score: ',test_agg)"
      ],
      "metadata": {
        "colab": {
          "base_uri": "https://localhost:8080/"
        },
        "id": "0BaicUOr03Le",
        "outputId": "2d771be2-980c-4839-a937-0f02ffb12889"
      },
      "execution_count": 2,
      "outputs": [
        {
          "output_type": "stream",
          "name": "stdout",
          "text": [
            "Model: \"sequential\"\n",
            "_________________________________________________________________\n",
            " Layer (type)                Output Shape              Param #   \n",
            "=================================================================\n",
            " dense (Dense)               (None, 512)               1573376   \n",
            "                                                                 \n",
            " dense_1 (Dense)             (None, 1024)              525312    \n",
            "                                                                 \n",
            " dense_2 (Dense)             (None, 100)               102500    \n",
            "                                                                 \n",
            "=================================================================\n",
            "Total params: 2,201,188\n",
            "Trainable params: 2,201,188\n",
            "Non-trainable params: 0\n",
            "_________________________________________________________________\n",
            "391/391 [==============================] - 23s 56ms/step - loss: 4.1251 - Accuracy: 0.0716\n",
            "313/313 [==============================] - 3s 10ms/step - loss: 3.8611 - Accuracy: 0.1080\n",
            "Score:  3.861116409301758\n",
            "Score:  0.1080000028014183\n"
          ]
        }
      ]
    },
    {
      "cell_type": "code",
      "source": [
        "from keras.utils.image_utils import load_img\n",
        "import numpy as np\n",
        "from tensorflow.keras.utils import img_to_array\n",
        "from keras.models import load_model"
      ],
      "metadata": {
        "id": "xEcFlAt72ja3"
      },
      "execution_count": 3,
      "outputs": []
    },
    {
      "cell_type": "code",
      "source": [
        "#Load Model And Train\n",
        "model = load_model('/content/cifar100.h5')\n",
        "model.compile(optimizer = 'rmsprop',loss = 'categorical_crossentropy',metrics = ['Accuracy'])\n",
        "model.fit(x_train,y_train,epochs = 20,batch_size = 128)\n",
        "model.save('cifar100.h5')"
      ],
      "metadata": {
        "colab": {
          "base_uri": "https://localhost:8080/"
        },
        "id": "Y4vLUegH2SKO",
        "outputId": "725d4ac3-f5d2-4850-a584-88db77b2294a"
      },
      "execution_count": 44,
      "outputs": [
        {
          "output_type": "stream",
          "name": "stdout",
          "text": [
            "Epoch 1/20\n",
            "391/391 [==============================] - 21s 52ms/step - loss: 1.2551 - Accuracy: 0.6643\n",
            "Epoch 2/20\n",
            "391/391 [==============================] - 19s 48ms/step - loss: 1.1993 - Accuracy: 0.6772\n",
            "Epoch 3/20\n",
            "391/391 [==============================] - 21s 53ms/step - loss: 1.1843 - Accuracy: 0.6823\n",
            "Epoch 4/20\n",
            "391/391 [==============================] - 19s 47ms/step - loss: 1.1699 - Accuracy: 0.6865\n",
            "Epoch 5/20\n",
            "391/391 [==============================] - 23s 58ms/step - loss: 1.1550 - Accuracy: 0.6915\n",
            "Epoch 6/20\n",
            "391/391 [==============================] - 19s 48ms/step - loss: 1.1309 - Accuracy: 0.6944\n",
            "Epoch 7/20\n",
            "391/391 [==============================] - 20s 51ms/step - loss: 1.1169 - Accuracy: 0.7018\n",
            "Epoch 8/20\n",
            "391/391 [==============================] - 19s 49ms/step - loss: 1.1150 - Accuracy: 0.7010\n",
            "Epoch 9/20\n",
            "391/391 [==============================] - 21s 53ms/step - loss: 1.1027 - Accuracy: 0.7025\n",
            "Epoch 10/20\n",
            "391/391 [==============================] - 19s 49ms/step - loss: 1.0884 - Accuracy: 0.7085\n",
            "Epoch 11/20\n",
            "391/391 [==============================] - 20s 52ms/step - loss: 1.0718 - Accuracy: 0.7130\n",
            "Epoch 12/20\n",
            "391/391 [==============================] - 20s 52ms/step - loss: 1.0460 - Accuracy: 0.7172\n",
            "Epoch 13/20\n",
            "391/391 [==============================] - 20s 52ms/step - loss: 1.0387 - Accuracy: 0.7210\n",
            "Epoch 14/20\n",
            "391/391 [==============================] - 19s 49ms/step - loss: 1.0346 - Accuracy: 0.7222\n",
            "Epoch 15/20\n",
            "391/391 [==============================] - 20s 52ms/step - loss: 1.0301 - Accuracy: 0.7233\n",
            "Epoch 16/20\n",
            "391/391 [==============================] - 19s 49ms/step - loss: 1.0112 - Accuracy: 0.7287\n",
            "Epoch 17/20\n",
            "391/391 [==============================] - 20s 51ms/step - loss: 0.9918 - Accuracy: 0.7329\n",
            "Epoch 18/20\n",
            "391/391 [==============================] - 19s 48ms/step - loss: 0.9960 - Accuracy: 0.7337\n",
            "Epoch 19/20\n",
            "391/391 [==============================] - 21s 54ms/step - loss: 0.9818 - Accuracy: 0.7403\n",
            "Epoch 20/20\n",
            "391/391 [==============================] - 19s 48ms/step - loss: 0.9779 - Accuracy: 0.7403\n"
          ]
        }
      ]
    },
    {
      "cell_type": "code",
      "source": [
        "# Test Model\n",
        "model100=load_model('/content/cifar100.h5')\n",
        "\n",
        "img = load_img('/content/lion.jpg',target_size=(32,32)) \n",
        "\n",
        "plt.imshow(img)\n",
        "plt.show\n",
        "\n",
        "img = img_to_array(img)\n",
        "img = img.reshape(1,32*32*3)\n",
        "img = img.astype('float32')\n",
        "img = img/255\n",
        "c = ['beaver','dolphin', 'otter', 'seal', 'whale','aquarium fish', 'flatfish', 'ray', 'shark', 'trout',\n",
        "    'orchids', 'poppies', 'roses', 'sunflowers', 'tulips','bottles', 'bowls', 'cans', 'cups', 'plates',\n",
        "     'apples', 'mushrooms', 'oranges', 'pears', 'sweet peppers','clock', 'computer keyboard', 'lamp', 'telephone', 'television',\n",
        "     'bed', 'chair','couch', 'table', 'wardrobe','bee', 'beetle', 'butterfly', 'caterpillar', 'cockroach',\n",
        "     'bear', 'leopard', 'lion', 'tiger', 'wolf','bridge', 'castle', 'house', 'road', 'skyscraper',\n",
        "     'cloud', 'forest', 'mountain', 'plain', 'sea','camel', 'cattle', 'chimpanzee', 'elephant', 'kangaroo',\n",
        "     'fox', 'porcupine', 'possum', 'raccoon', 'skunk','crab', 'lobster', 'snail', 'spider', 'worm',\n",
        "     'baby', 'boy', 'girl', 'man', 'woman','crocodile', 'dinosaur', 'lizard', 'snake', 'turtle',\n",
        "     'hamster', 'mouse', 'rabbit', 'shrew', 'squirrel','maple', 'oak', 'palm', 'pine', 'willow',\n",
        "      'bicycle', 'bus', 'motorcycle', 'pickup truck', 'train','lawn-mower', 'rocket', 'streetcar', 'tank', 'tractor']\n",
        "kq = np.argmax(model100.predict(img))\n",
        "#print(kq,type(kq))\n",
        "print('Output: ',kq,',',c[kq-1])"
      ],
      "metadata": {
        "colab": {
          "base_uri": "https://localhost:8080/",
          "height": 465
        },
        "id": "Vr-YcC1E3Rn6",
        "outputId": "1cafb18a-0115-415b-fc29-faa563ad18f3"
      },
      "execution_count": 45,
      "outputs": [
        {
          "output_type": "stream",
          "name": "stdout",
          "text": [
            "1/1 [==============================] - 0s 71ms/step\n",
            "Output:  32 , chair\n"
          ]
        },
        {
          "output_type": "display_data",
          "data": {
            "text/plain": [
              "<Figure size 640x480 with 1 Axes>"
            ],
            "image/png": "[encoded data removed]"
          },
          "metadata": {}
        }
      ]
    }
  ]
}