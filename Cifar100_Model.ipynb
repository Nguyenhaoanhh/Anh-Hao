{
  "nbformat": 4,
  "nbformat_minor": 0,
  "metadata": {
    "colab": {
      "provenance": [],
      "authorship_tag": "ABX9TyNspwQFLrI9q2mpU3Dms3Lp",
      "include_colab_link": true
    },
    "kernelspec": {
      "name": "python3",
      "display_name": "Python 3"
    },
    "language_info": {
      "name": "python"
    }
  },
  "cells": [
    {
      "cell_type": "markdown",
      "metadata": {
        "id": "view-in-github",
        "colab_type": "text"
      },
      "source": [
        "<a href=\"https://colab.research.google.com/github/Nguyenhaoanhh/Anh-Hao/blob/main/Cifar100_Model.ipynb\" target=\"_parent\"><img src=\"https://colab.research.google.com/assets/colab-badge.svg\" alt=\"Open In Colab\"/></a>"
      ]
    },
    {
      "cell_type": "code",
      "source": [
        "from keras.datasets import cifar100\n",
        "import numpy as np\n",
        "import matplotlib.pyplot as plt\n",
        "import pandas as pd\n",
        "from keras.models import Sequential\n",
        "from  keras.layers import Dense\n",
        "from keras.utils import to_categorical\n",
        "\n",
        "(x_train,y_train),(x_test,y_test) = cifar100.load_data()\n",
        "\n",
        "print(x_train.shape)\n",
        "print(y_train.shape)\n",
        "print(x_test.shape)\n",
        "print(y_test.shape)\n",
        "\n",
        "digist = x_train[15291]\n",
        "plt.imshow(digist)\n",
        "plt.show"
      ],
      "metadata": {
        "colab": {
          "base_uri": "https://localhost:8080/",
          "height": 517
        },
        "id": "3Mqugy210gwa",
        "outputId": "ecab4ed9-6963-4997-b501-b030927a3778"
      },
      "execution_count": 1,
      "outputs": [
        {
          "output_type": "stream",
          "name": "stdout",
          "text": [
            "(50000, 32, 32, 3)\n",
            "(50000, 1)\n",
            "(10000, 32, 32, 3)\n",
            "(10000, 1)\n"
          ]
        },
        {
          "output_type": "execute_result",
          "data": {
            "text/plain": [
              "<function matplotlib.pyplot.show(close=None, block=None)>"
            ]
          },
          "metadata": {},
          "execution_count": 1
        },
        {
          "output_type": "display_data",
          "data": {
            "text/plain": [
              "<Figure size 640x480 with 1 Axes>"
            ],
            "image/png": "[encoded data removed]"
          },
          "metadata": {}
        }
      ]
    },
    {
      "cell_type": "code",
      "source": [
        "model =  Sequential()\n",
        "model.add(Dense(512,activation = 'relu',input_shape = [32*32*3]))\n",
        "model.add(Dense(1024,activation = 'relu',input_shape = [32*32*3]))\n",
        "model.add(Dense(100,activation='softmax'))\n",
        "model.summary()\n",
        "\n",
        "x_train = x_train.reshape((50000,32*32*3))\n",
        "x_train = x_train.astype('float32')/255\n",
        "\n",
        "x_test = x_test.reshape((10000,32*32*3))\n",
        "x_test = x_test.astype('float32')/255\n",
        "\n",
        "y_train = to_categorical(y_train,100)\n",
        "y_test = to_categorical(y_test,100)\n",
        "\n",
        "model = load_model('/content/cifar100.h5')\n",
        "model.compile(optimizer = 'rmsprop',loss = 'categorical_crossentropy',metrics = ['Accuracy'])\n",
        "model.fit(x_train,y_train,epochs = 1,batch_size = 128)\n",
        "model.save('cifar100.h5')\n",
        "test_loss,test_agg = model.evaluate(x_test,y_test)\n",
        "print('Score: ',test_loss)\n",
        "print('Score: ',test_agg)"
      ],
      "metadata": {
        "colab": {
          "base_uri": "https://localhost:8080/"
        },
        "id": "0BaicUOr03Le",
        "outputId": "2d771be2-980c-4839-a937-0f02ffb12889"
      },
      "execution_count": 2,
      "outputs": [
        {
          "output_type": "stream",
          "name": "stdout",
          "text": [
            "Model: \"sequential\"\n",
            "_________________________________________________________________\n",
            " Layer (type)                Output Shape              Param #   \n",
            "=================================================================\n",
            " dense (Dense)               (None, 512)               1573376   \n",
            "                                                                 \n",
            " dense_1 (Dense)             (None, 1024)              525312    \n",
            "                                                                 \n",
            " dense_2 (Dense)             (None, 100)               102500    \n",
            "                                                                 \n",
            "=================================================================\n",
            "Total params: 2,201,188\n",
            "Trainable params: 2,201,188\n",
            "Non-trainable params: 0\n",
            "_________________________________________________________________\n",
            "391/391 [==============================] - 23s 56ms/step - loss: 4.1251 - Accuracy: 0.0716\n",
            "313/313 [==============================] - 3s 10ms/step - loss: 3.8611 - Accuracy: 0.1080\n",
            "Score:  3.861116409301758\n",
            "Score:  0.1080000028014183\n"
          ]
        }
      ]
    },
    {
      "cell_type": "code",
      "source": [
        "from keras.utils.image_utils import load_img\n",
        "import numpy as np\n",
        "from tensorflow.keras.utils import img_to_array\n",
        "from keras.models import load_model"
      ],
      "metadata": {
        "id": "xEcFlAt72ja3"
      },
      "execution_count": 3,
      "outputs": []
    },
    {
      "cell_type": "code",
      "source": [
        "#Load Model And Train\n",
        "model = load_model('/content/cifar100.h5')\n",
        "model.compile(optimizer = 'rmsprop',loss = 'categorical_crossentropy',metrics = ['Accuracy'])\n",
        "model.fit(x_train,y_train,epochs = 10,batch_size = 128)\n",
        "model.save('cifar100.h5')"
      ],
      "metadata": {
        "colab": {
          "base_uri": "https://localhost:8080/"
        },
        "id": "Y4vLUegH2SKO",
        "outputId": "0e6fb0cc-cbff-4884-8577-3813077b1899"
      },
      "execution_count": 10,
      "outputs": [
        {
          "output_type": "stream",
          "name": "stdout",
          "text": [
            "Epoch 1/10\n",
            "391/391 [==============================] - 20s 49ms/step - loss: 2.6207 - Accuracy: 0.3409\n",
            "Epoch 2/10\n",
            "391/391 [==============================] - 20s 51ms/step - loss: 2.5424 - Accuracy: 0.3589\n",
            "Epoch 3/10\n",
            "391/391 [==============================] - 20s 51ms/step - loss: 2.4895 - Accuracy: 0.3671\n",
            "Epoch 4/10\n",
            "391/391 [==============================] - 20s 51ms/step - loss: 2.4380 - Accuracy: 0.3786\n",
            "Epoch 5/10\n",
            "391/391 [==============================] - 19s 47ms/step - loss: 2.3823 - Accuracy: 0.3920\n",
            "Epoch 6/10\n",
            "391/391 [==============================] - 20s 52ms/step - loss: 2.3275 - Accuracy: 0.4039\n",
            "Epoch 7/10\n",
            "391/391 [==============================] - 19s 49ms/step - loss: 2.2746 - Accuracy: 0.4172\n",
            "Epoch 8/10\n",
            "391/391 [==============================] - 20s 51ms/step - loss: 2.2316 - Accuracy: 0.4268\n",
            "Epoch 9/10\n",
            "391/391 [==============================] - 19s 48ms/step - loss: 2.1837 - Accuracy: 0.4366\n",
            "Epoch 10/10\n",
            "391/391 [==============================] - 20s 51ms/step - loss: 2.1285 - Accuracy: 0.4505\n"
          ]
        }
      ]
    },
    {
      "cell_type": "code",
      "source": [
        "# Test Model\n",
        "model100=load_model('/content/cifar100.h5')\n",
        "\n",
        "img = load_img('/content/cat.jpg',target_size=(32,32)) \n",
        "img = img_to_array(img)\n",
        "img = img.reshape(1,32*32*3)\n",
        "img = img.astype('float32')\n",
        "img = img/255\n",
        "np.argmax(model100.predict(img),axis=-1)"
      ],
      "metadata": {
        "colab": {
          "base_uri": "https://localhost:8080/"
        },
        "id": "Vr-YcC1E3Rn6",
        "outputId": "34898649-6a2b-4fe2-8c8e-fecc16a497dd"
      },
      "execution_count": 9,
      "outputs": [
        {
          "output_type": "stream",
          "name": "stdout",
          "text": [
            "1/1 [==============================] - 0s 63ms/step\n"
          ]
        },
        {
          "output_type": "execute_result",
          "data": {
            "text/plain": [
              "array([4])"
            ]
          },
          "metadata": {},
          "execution_count": 9
        }
      ]
    }
  ]
}