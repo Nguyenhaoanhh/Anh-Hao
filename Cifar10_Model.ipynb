{
  "nbformat": 4,
  "nbformat_minor": 0,
  "metadata": {
    "colab": {
      "provenance": [],
      "authorship_tag": "ABX9TyN4esjoTh78ROeuSRksGD+T",
      "include_colab_link": true
    },
    "kernelspec": {
      "name": "python3",
      "display_name": "Python 3"
    },
    "language_info": {
      "name": "python"
    }
  },
  "cells": [
    {
      "cell_type": "markdown",
      "metadata": {
        "id": "view-in-github",
        "colab_type": "text"
      },
      "source": [
        "<a href=\"https://colab.research.google.com/github/Nguyenhaoanhh/Anh-Hao/blob/main/Cifar10_Model.ipynb\" target=\"_parent\"><img src=\"https://colab.research.google.com/assets/colab-badge.svg\" alt=\"Open In Colab\"/></a>"
      ]
    },
    {
      "cell_type": "code",
      "execution_count": 1,
      "metadata": {
        "colab": {
          "base_uri": "https://localhost:8080/",
          "height": 551
        },
        "id": "UmwkBX-S_ENY",
        "outputId": "a7528b32-e86c-4ecb-f95d-8d5f5690f7b9"
      },
      "outputs": [
        {
          "output_type": "stream",
          "name": "stdout",
          "text": [
            "Downloading data from https://www.cs.toronto.edu/~kriz/cifar-10-python.tar.gz\n",
            "170498071/170498071 [==============================] - 3s 0us/step\n",
            "(50000, 32, 32, 3)\n",
            "(50000, 1)\n",
            "(10000, 32, 32, 3)\n",
            "(10000, 1)\n"
          ]
        },
        {
          "output_type": "execute_result",
          "data": {
            "text/plain": [
              "<function matplotlib.pyplot.show(close=None, block=None)>"
            ]
          },
          "metadata": {},
          "execution_count": 1
        },
        {
          "output_type": "display_data",
          "data": {
            "text/plain": [
              "<Figure size 640x480 with 1 Axes>"
            ],
            "image/png": "[encoded data removed]"
          },
          "metadata": {}
        }
      ],
      "source": [
        "from keras.datasets import cifar10\n",
        "import numpy as np\n",
        "import matplotlib.pyplot as plt\n",
        "import pandas as pd\n",
        "from keras.models import Sequential\n",
        "from  keras.layers import Dense\n",
        "from keras.utils import to_categorical\n",
        "from keras.utils.image_utils import load_img\n",
        "import numpy as np\n",
        "from tensorflow.keras.utils import img_to_array\n",
        "from keras.models import load_model\n",
        "\n",
        "(x_train,y_train),(x_test,y_test) = cifar10.load_data()\n",
        "\n",
        "print(x_train.shape)\n",
        "print(y_train.shape)\n",
        "print(x_test.shape)\n",
        "print(y_test.shape)\n",
        "\n",
        "digist = x_train[15291]\n",
        "plt.imshow(digist)\n",
        "plt.show"
      ]
    },
    {
      "cell_type": "code",
      "source": [
        "model =  Sequential()\n",
        "model.add(Dense(512,activation = 'relu',input_shape = [32*32*3]))\n",
        "model.add(Dense(1024,activation = 'relu',input_shape = [32*32*3]))\n",
        "model.add(Dense(10,activation='softmax'))\n",
        "model.summary()\n",
        "\n",
        "x_train = x_train.reshape((50000,32*32*3))\n",
        "x_train = x_train.astype('float32')/255\n",
        "\n",
        "x_test = x_test.reshape((10000,32*32*3))\n",
        "x_test = x_test.astype('float32')/255\n",
        "\n",
        "y_train = to_categorical(y_train,10)\n",
        "y_test = to_categorical(y_test,10)"
      ],
      "metadata": {
        "colab": {
          "base_uri": "https://localhost:8080/"
        },
        "id": "M-bUX_fU_T98",
        "outputId": "ce64a568-86c6-4623-b937-766107580941"
      },
      "execution_count": 2,
      "outputs": [
        {
          "output_type": "stream",
          "name": "stdout",
          "text": [
            "Model: \"sequential\"\n",
            "_________________________________________________________________\n",
            " Layer (type)                Output Shape              Param #   \n",
            "=================================================================\n",
            " dense (Dense)               (None, 512)               1573376   \n",
            "                                                                 \n",
            " dense_1 (Dense)             (None, 1024)              525312    \n",
            "                                                                 \n",
            " dense_2 (Dense)             (None, 10)                10250     \n",
            "                                                                 \n",
            "=================================================================\n",
            "Total params: 2,108,938\n",
            "Trainable params: 2,108,938\n",
            "Non-trainable params: 0\n",
            "_________________________________________________________________\n"
          ]
        }
      ]
    },
    {
      "cell_type": "code",
      "source": [
        "#Load Model And Train\n",
        "model = load_model('/content/cifar10.h5')\n",
        "model.compile(optimizer = 'rmsprop',loss = 'categorical_crossentropy',metrics = ['Accuracy'])\n",
        "model.fit(x_train,y_train,epochs = 10,batch_size = 128)\n",
        "model.save('cifar10.h5')"
      ],
      "metadata": {
        "colab": {
          "base_uri": "https://localhost:8080/"
        },
        "id": "lgecc7-4_Zwm",
        "outputId": "cdf6e712-a548-424d-e5c1-ea952befc416"
      },
      "execution_count": 7,
      "outputs": [
        {
          "output_type": "stream",
          "name": "stdout",
          "text": [
            "Epoch 1/10\n",
            "391/391 [==============================] - 13s 32ms/step - loss: 1.7934 - Accuracy: 0.3589\n",
            "Epoch 2/10\n",
            "391/391 [==============================] - 13s 32ms/step - loss: 1.6953 - Accuracy: 0.3936\n",
            "Epoch 3/10\n",
            "391/391 [==============================] - 13s 33ms/step - loss: 1.6283 - Accuracy: 0.4168\n",
            "Epoch 4/10\n",
            "391/391 [==============================] - 13s 32ms/step - loss: 1.5789 - Accuracy: 0.4352\n",
            "Epoch 5/10\n",
            "391/391 [==============================] - 13s 32ms/step - loss: 1.5353 - Accuracy: 0.4507\n",
            "Epoch 6/10\n",
            "391/391 [==============================] - 13s 33ms/step - loss: 1.5041 - Accuracy: 0.4633\n",
            "Epoch 7/10\n",
            "391/391 [==============================] - 13s 33ms/step - loss: 1.4744 - Accuracy: 0.4737\n",
            "Epoch 8/10\n",
            "391/391 [==============================] - 13s 32ms/step - loss: 1.4503 - Accuracy: 0.4837\n",
            "Epoch 9/10\n",
            "391/391 [==============================] - 14s 37ms/step - loss: 1.4264 - Accuracy: 0.4926\n",
            "Epoch 10/10\n",
            "391/391 [==============================] - 13s 32ms/step - loss: 1.4017 - Accuracy: 0.5011\n"
          ]
        }
      ]
    },
    {
      "cell_type": "code",
      "source": [
        "test_loss,test_agg = model.evaluate(x_test,y_test)\n",
        "print('Score: ',test_loss)\n",
        "print('Score: ',test_agg)"
      ],
      "metadata": {
        "colab": {
          "base_uri": "https://localhost:8080/"
        },
        "id": "S0weoUBI_fdR",
        "outputId": "c6c4ee49-21a0-4419-98ac-44058e301ad2"
      },
      "execution_count": 8,
      "outputs": [
        {
          "output_type": "stream",
          "name": "stdout",
          "text": [
            "313/313 [==============================] - 2s 5ms/step - loss: 1.5043 - Accuracy: 0.4636\n",
            "Score:  1.5042535066604614\n",
            "Score:  0.4636000096797943\n"
          ]
        }
      ]
    },
    {
      "cell_type": "code",
      "source": [
        "# Test Model\n",
        "model10=load_model('/content/cifar10.h5')\n",
        "\n",
        "img = load_img('/content/cat.jpg',target_size=(32,32)) #Cat\n",
        "\n",
        "plt.imshow(img)\n",
        "plt.show\n",
        "\n",
        "img = img_to_array(img)\n",
        "img = img.reshape(1,32*32*3)\n",
        "img = img.astype('float32')\n",
        "img = img/255\n",
        "c = ['airplane','automobile', 'bird', 'cat', 'deer','dog', 'frog', 'horse', 'ship', 'truck']\n",
        "kq = np.argmax(model10.predict(img))\n",
        "#print(kq,type(kq))\n",
        "print('Output: ',kq,',',c[kq-1])"
      ],
      "metadata": {
        "colab": {
          "base_uri": "https://localhost:8080/",
          "height": 465
        },
        "id": "BZYK-p8D_hLS",
        "outputId": "b3bfb8ad-f573-4e45-fbe0-da3e7923eec6"
      },
      "execution_count": 9,
      "outputs": [
        {
          "output_type": "stream",
          "name": "stdout",
          "text": [
            "1/1 [==============================] - 0s 62ms/step\n",
            "Output:  3 , bird\n"
          ]
        },
        {
          "output_type": "display_data",
          "data": {
            "text/plain": [
              "<Figure size 640x480 with 1 Axes>"
            ],
            "image/png": "[encoded data removed]"
          },
          "metadata": {}
        }
      ]
    }
  ]
}